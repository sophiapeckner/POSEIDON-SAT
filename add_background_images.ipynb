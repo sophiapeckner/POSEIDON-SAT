{
 "cells": [
  {
   "cell_type": "markdown",
   "metadata": {},
   "source": [
    "# Add images with no ship instances"
   ]
  },
  {
   "cell_type": "markdown",
   "metadata": {},
   "source": [
    "In his discussion of next steps, Kyler mentions that ShipRS lacks \"background images\" (just the sea with no ship instances). Adding these images is useful because they may establish foreground v. background and reduce false positives. YOLO recommends 1% of total images to be background images. For ShipRSImageNet, this would be about 40 images."
   ]
  },
  {
   "cell_type": "code",
   "execution_count": 8,
   "metadata": {},
   "outputs": [],
   "source": [
    "import os\n",
    "from pathlib import Path\n",
    "import pandas as pd\n",
    "from PIL import Image"
   ]
  },
  {
   "cell_type": "markdown",
   "metadata": {},
   "source": [
    "#### Get each image's size"
   ]
  },
  {
   "cell_type": "code",
   "execution_count": 13,
   "metadata": {},
   "outputs": [],
   "source": [
    "from multiprocessing import Pool\n",
    "from functools import partial\n",
    "\n",
    "def get_image_sizes_df(images_path, file_names):\n",
    "    pool = Pool(processes=len(os.sched_getaffinity(0)))\n",
    "    image_sizes = pool.map(partial(get_image_size, images_path=images_path), file_names)\n",
    "    sizes_df = pd.DataFrame(image_sizes)\n",
    "    return sizes_df\n",
    "\n",
    "def get_image_size(file_name, images_path):\n",
    "    image = Image.open(images_path / file_name)\n",
    "    w, h = image.size\n",
    "    return {\"file_path\": file_name, \"image_height\": h, \"image_width\": w}"
   ]
  },
  {
   "cell_type": "code",
   "execution_count": 14,
   "metadata": {},
   "outputs": [
    {
     "data": {
      "text/html": [
       "<div>\n",
       "<style scoped>\n",
       "    .dataframe tbody tr th:only-of-type {\n",
       "        vertical-align: middle;\n",
       "    }\n",
       "\n",
       "    .dataframe tbody tr th {\n",
       "        vertical-align: top;\n",
       "    }\n",
       "\n",
       "    .dataframe thead th {\n",
       "        text-align: right;\n",
       "    }\n",
       "</style>\n",
       "<table border=\"1\" class=\"dataframe\">\n",
       "  <thead>\n",
       "    <tr style=\"text-align: right;\">\n",
       "      <th></th>\n",
       "      <th>file_path</th>\n",
       "      <th>image_height</th>\n",
       "      <th>image_width</th>\n",
       "    </tr>\n",
       "  </thead>\n",
       "  <tbody>\n",
       "    <tr>\n",
       "      <th>0</th>\n",
       "      <td>004312.bmp</td>\n",
       "      <td>500</td>\n",
       "      <td>496</td>\n",
       "    </tr>\n",
       "    <tr>\n",
       "      <th>1</th>\n",
       "      <td>100000988.bmp</td>\n",
       "      <td>343</td>\n",
       "      <td>350</td>\n",
       "    </tr>\n",
       "    <tr>\n",
       "      <th>2</th>\n",
       "      <td>004543.bmp</td>\n",
       "      <td>450</td>\n",
       "      <td>450</td>\n",
       "    </tr>\n",
       "    <tr>\n",
       "      <th>3</th>\n",
       "      <td>004255.bmp</td>\n",
       "      <td>600</td>\n",
       "      <td>600</td>\n",
       "    </tr>\n",
       "    <tr>\n",
       "      <th>4</th>\n",
       "      <td>004497.bmp</td>\n",
       "      <td>480</td>\n",
       "      <td>480</td>\n",
       "    </tr>\n",
       "  </tbody>\n",
       "</table>\n",
       "</div>"
      ],
      "text/plain": [
       "       file_path  image_height  image_width\n",
       "0     004312.bmp           500          496\n",
       "1  100000988.bmp           343          350\n",
       "2     004543.bmp           450          450\n",
       "3     004255.bmp           600          600\n",
       "4     004497.bmp           480          480"
      ]
     },
     "execution_count": 14,
     "metadata": {},
     "output_type": "execute_result"
    }
   ],
   "source": [
    "images_path = Path(\"sea_images\")\n",
    "df = get_image_sizes_df(images_path, os.listdir(images_path))\n",
    "df.head()"
   ]
  },
  {
   "cell_type": "markdown",
   "metadata": {},
   "source": [
    "#### Create XML annotations"
   ]
  },
  {
   "cell_type": "code",
   "execution_count": 20,
   "metadata": {},
   "outputs": [],
   "source": [
    "import xml.etree.ElementTree as ET\n",
    "from xml.dom import minidom\n",
    "\n",
    "def prettify(elem):\n",
    "    \"\"\"Return a pretty-printed XML string for the Element.\"\"\"\n",
    "    rough_string = ET.tostring(elem, 'utf-8')\n",
    "    reparsed = minidom.parseString(rough_string)\n",
    "    return reparsed.toprettyxml(indent=\"    \")\n",
    "\n",
    "def write_annotation(file_name, image_width, image_height, output_dir):\n",
    "    annotation = ET.Element('annotation')\n",
    "    \n",
    "    annotator = ET.SubElement(annotation, 'annotator')\n",
    "    annotator.text = \"zikun liu\"\n",
    "    \n",
    "    source = ET.SubElement(annotation, 'source')\n",
    "    # Empty tag; it's unclear what database HRSC2016 images come from\n",
    "    database = ET.SubElement(source, 'database')\n",
    "    dataset_source = ET.SubElement(source, 'dataset_source')\n",
    "    dataset_source.text = \"HRSC2016\"\n",
    "\n",
    "    # Empty tag; HRSC2016 images don't have an associated port id\n",
    "    port_id = ET.SubElement(annotation, 'port_id')\n",
    "\n",
    "    img_resolution = ET.SubElement(annotation, 'Img_Resolution')\n",
    "    # Image resolutions range from 2-m and 0.4-m per pixel, therefore 1.2-m per pixel is the average\n",
    "    img_resolution.text = \"1.2\"\n",
    "\n",
    "    folder_elem = ET.SubElement(annotation, 'folder')\n",
    "    folder_elem.text = \"images\"\n",
    "\n",
    "    filename_elem = ET.SubElement(annotation, 'filename')\n",
    "    filename_elem.text = f'{file_name}.bmp'\n",
    "\n",
    "    # All xView images have been sliced to have an image width and height of 930x930\n",
    "    size = ET.SubElement(annotation, 'size')\n",
    "    width_elem = ET.SubElement(size, 'width')\n",
    "    width_elem.text = str(image_width)\n",
    "    height_elem = ET.SubElement(size, 'height')\n",
    "    height_elem.text = str(image_height)\n",
    "    # Empty tag; unsure what depth means\n",
    "    depth_elem = ET.SubElement(size, 'depth')\n",
    "\n",
    "    # Convert the annotation to a pretty-printed XML string\n",
    "    xml_str = prettify(annotation)\n",
    "    \n",
    "    file_path = os.path.join(output_dir, f'{file_name}.xml')\n",
    "    \n",
    "    # Write the XML string to the file\n",
    "    with open(file_path, 'w') as f:\n",
    "        f.write(xml_str)"
   ]
  },
  {
   "cell_type": "code",
   "execution_count": 21,
   "metadata": {},
   "outputs": [],
   "source": [
    "annotation_output_dir = Path(\"tmp_sea_xml\")\n",
    "\n",
    "for _, row in df.iterrows():\n",
    "    write_annotation(row[\"file_path\"][:-4], row[\"image_width\"], row[\"image_height\"], annotation_output_dir)"
   ]
  },
  {
   "cell_type": "markdown",
   "metadata": {},
   "source": [
    "#### Split these images among ShipRS image sets"
   ]
  },
  {
   "cell_type": "code",
   "execution_count": 23,
   "metadata": {},
   "outputs": [],
   "source": [
    "import random\n",
    "import math\n",
    "\n",
    "def get_splits():\n",
    "    # Get images that we wish to add to existing image sets (listed in tmp_images folder)\n",
    "    images_cp = os.listdir(images_path)\n",
    "    random.shuffle(images_cp)\n",
    "\n",
    "    # Calculate the number of images to add to each set\n",
    "    num_images = len(images_cp)\n",
    "    num_train = math.ceil(0.64 * num_images)\n",
    "    num_val = math.ceil(0.16 * num_images)\n",
    "\n",
    "    # Split images into their respective sets\n",
    "    train_images = images_cp[:num_train]\n",
    "    val_images = images_cp[num_train:num_train + num_val]\n",
    "    test_images = images_cp[num_train + num_val:]\n",
    "\n",
    "    return train_images, val_images, test_images\n",
    "\n",
    "# Define function to append image names to the specified file\n",
    "def append_to_image_set(image_set_path, filenames):\n",
    "    with open(image_set_path, 'a') as file:\n",
    "        for name in filenames:\n",
    "            file.write(name + \"\\n\")"
   ]
  },
  {
   "cell_type": "markdown",
   "metadata": {},
   "source": [
    "Before adding these empty sea images into the image sets:\n",
    "- `train.txt` stopped at line 2232 (`1824__155.bmp`)\n",
    "- `val.txt` stopped at line 559 (`2009__121.bmp`)\n",
    "- `test.txt` stopped at line 696 (`1824__142.bmp`)"
   ]
  },
  {
   "cell_type": "code",
   "execution_count": 32,
   "metadata": {},
   "outputs": [
    {
     "name": "stdout",
     "output_type": "stream",
     "text": [
      "Added 26 images to train.txt, 7 images to val.txt, and 7 images to test.txt.\n"
     ]
    }
   ],
   "source": [
    "train_images, val_images, test_images = get_splits()\n",
    "\n",
    "# Append the new image names to the respective files\n",
    "image_sets_dir = Path(\"ShipRSImageNet_V1/VOC_Format/ImageSets\")\n",
    "# append_to_image_set(os.path.join(image_sets_dir, \"train.txt\"), train_images)\n",
    "# append_to_image_set(os.path.join(image_sets_dir, \"val.txt\"), val_images)\n",
    "# append_to_image_set(os.path.join(image_sets_dir, \"test.txt\"), test_images)\n",
    "\n",
    "# print(f\"Added {len(train_images)} images to train.txt, {len(val_images)} images to val.txt, and {len(test_images)} images to test.txt.\")"
   ]
  },
  {
   "cell_type": "markdown",
   "metadata": {},
   "source": [
    "Now, to finish integration of these new images into ShipRSImageNet then we need to copy over all images in `sea_images` into JPEGImages folder and `tmp_sea_xml` into Annotations folder\n",
    "\n",
    "    cp sea_images/* ShipRSImageNet_V1/VOC_Format/JPEGImages/\n",
    "    cp tmp_sea_xml/* ShipRSImageNet_V1/VOC_Format/Annotations/"
   ]
  }
 ],
 "metadata": {
  "kernelspec": {
   "display_name": "my_venv",
   "language": "python",
   "name": "python3"
  },
  "language_info": {
   "codemirror_mode": {
    "name": "ipython",
    "version": 3
   },
   "file_extension": ".py",
   "mimetype": "text/x-python",
   "name": "python",
   "nbconvert_exporter": "python",
   "pygments_lexer": "ipython3",
   "version": "3.8.10"
  }
 },
 "nbformat": 4,
 "nbformat_minor": 2
}
